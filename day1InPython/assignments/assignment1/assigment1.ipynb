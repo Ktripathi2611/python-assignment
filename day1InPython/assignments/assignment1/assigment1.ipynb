{
 "cells": [
  {
   "cell_type": "markdown",
   "metadata": {},
   "source": [
    "Assigment 1\n"
   ]
  },
  {
   "cell_type": "code",
   "execution_count": 6,
   "metadata": {},
   "outputs": [
    {
     "name": "stdout",
     "output_type": "stream",
     "text": [
      "Choose the number for your arithmetic operation:\n",
      "1. Add\n",
      "2. Subtract\n",
      "3. Multiply\n",
      "4. Division\n",
      "OOHH MAAH DOG! You chose for ADDITION\n",
      "LE BHAI! Answer dekh le tere add ka: 3.0\n",
      "Choose the number for your arithmetic operation:\n",
      "1. Add\n",
      "2. Subtract\n",
      "3. Multiply\n",
      "4. Division\n",
      "OOHH MAAH DOG! You chose for DIVISION\n",
      "LE BHAI! Answer dekh le tere division ka: 0.5\n",
      "Exiting the program...\n"
     ]
    }
   ],
   "source": [
    "while True: \n",
    "  num1 = float(input(\"Enter the 1st number (or 0 to exit): \"))\n",
    "\n",
    "  if num1 == 0:\n",
    "    break\n",
    "\n",
    "  num2 = float(input(\"Enter the 2nd number: \"))\n",
    "\n",
    "  print(\"Choose the number for your arithmetic operation:\")\n",
    "  print(\"1. Add\")\n",
    "  print(\"2. Subtract\")\n",
    "  print(\"3. Multiply\")\n",
    "  print(\"4. Division\")\n",
    "\n",
    "  menu = input(\"Enter your number: \")\n",
    "\n",
    "  if menu == \"1\":\n",
    "    print(\"OOHH MAAH DOG! You chose for ADDITION\")\n",
    "    result = num1 + num2\n",
    "    print(\"LE BHAI! Answer dekh le tere add ka:\", result)\n",
    "  elif menu == \"2\":\n",
    "    print(\"OOHH MAAH DOG! You chose for SUBTRACTION\")\n",
    "    result = num1 - num2\n",
    "    print(\"LE BHAI! Answer dekh le tere subtract ka:\", result)\n",
    "  elif menu == \"3\":\n",
    "    print(\"OOHH MAAH DOG! You chose for MULTIPLICATION\")\n",
    "    result = num1 * num2\n",
    "    print(\"LE BHAI! Answer dekh le tere multiply ka:\", result)\n",
    "  elif menu == \"4\":\n",
    "    if num2 == 0:\n",
    "      print(\"Error: Cannot divide by zero.\")\n",
    "    else:\n",
    "      result = num1 / num2\n",
    "      print(\"OOHH MAAH DOG! You chose for DIVISION\")\n",
    "      print(\"LE BHAI! Answer dekh le tere division ka:\", result)\n",
    "  else:\n",
    "    print(\"Invalid operation. Please enter a number between 1 and 4.\")\n",
    "\n",
    "print(\"Exiting the program...\")\n",
    "\n"
   ]
  },
  {
   "cell_type": "markdown",
   "metadata": {},
   "source": [
    "Assignment2"
   ]
  },
  {
   "cell_type": "code",
   "execution_count": 7,
   "metadata": {},
   "outputs": [
    {
     "name": "stdout",
     "output_type": "stream",
     "text": [
      "Temperature Converter\n",
      "1. Convert Celsius to Fahrenheit\n",
      "2. Convert Fahrenheit to Celsius\n",
      "3. Exit\n",
      "Convert Celsius to Fahrenheit\n",
      "86.0\n",
      "Temperature Converter\n",
      "1. Convert Celsius to Fahrenheit\n",
      "2. Convert Fahrenheit to Celsius\n",
      "3. Exit\n",
      "Invalid choice. Please select 1, 2, or 3.\n",
      "Temperature Converter\n",
      "1. Convert Celsius to Fahrenheit\n",
      "2. Convert Fahrenheit to Celsius\n",
      "3. Exit\n"
     ]
    },
    {
     "ename": "KeyboardInterrupt",
     "evalue": "Interrupted by user",
     "output_type": "error",
     "traceback": [
      "\u001b[1;31m---------------------------------------------------------------------------\u001b[0m",
      "\u001b[1;31mKeyboardInterrupt\u001b[0m                         Traceback (most recent call last)",
      "Cell \u001b[1;32mIn[7], line 7\u001b[0m\n\u001b[0;32m      4\u001b[0m \u001b[38;5;28mprint\u001b[39m(\u001b[38;5;124m\"\u001b[39m\u001b[38;5;124m2. Convert Fahrenheit to Celsius\u001b[39m\u001b[38;5;124m\"\u001b[39m)\n\u001b[0;32m      5\u001b[0m \u001b[38;5;28mprint\u001b[39m(\u001b[38;5;124m\"\u001b[39m\u001b[38;5;124m3. Exit\u001b[39m\u001b[38;5;124m\"\u001b[39m)\n\u001b[1;32m----> 7\u001b[0m menu \u001b[38;5;241m=\u001b[39m \u001b[38;5;28mint\u001b[39m(\u001b[38;5;28;43minput\u001b[39;49m\u001b[43m(\u001b[49m\u001b[38;5;124;43m\"\u001b[39;49m\u001b[38;5;124;43mEnter the selected number: \u001b[39;49m\u001b[38;5;124;43m\"\u001b[39;49m\u001b[43m)\u001b[49m)\n\u001b[0;32m      9\u001b[0m \u001b[38;5;28;01mif\u001b[39;00m menu \u001b[38;5;241m==\u001b[39m \u001b[38;5;241m1\u001b[39m:\n\u001b[0;32m     10\u001b[0m     \u001b[38;5;28mprint\u001b[39m(\u001b[38;5;124m\"\u001b[39m\u001b[38;5;124mConvert Celsius to Fahrenheit\u001b[39m\u001b[38;5;124m\"\u001b[39m)\n",
      "File \u001b[1;32m~\\AppData\\Roaming\\Python\\Python312\\site-packages\\ipykernel\\kernelbase.py:1282\u001b[0m, in \u001b[0;36mKernel.raw_input\u001b[1;34m(self, prompt)\u001b[0m\n\u001b[0;32m   1280\u001b[0m     msg \u001b[38;5;241m=\u001b[39m \u001b[38;5;124m\"\u001b[39m\u001b[38;5;124mraw_input was called, but this frontend does not support input requests.\u001b[39m\u001b[38;5;124m\"\u001b[39m\n\u001b[0;32m   1281\u001b[0m     \u001b[38;5;28;01mraise\u001b[39;00m StdinNotImplementedError(msg)\n\u001b[1;32m-> 1282\u001b[0m \u001b[38;5;28;01mreturn\u001b[39;00m \u001b[38;5;28;43mself\u001b[39;49m\u001b[38;5;241;43m.\u001b[39;49m\u001b[43m_input_request\u001b[49m\u001b[43m(\u001b[49m\n\u001b[0;32m   1283\u001b[0m \u001b[43m    \u001b[49m\u001b[38;5;28;43mstr\u001b[39;49m\u001b[43m(\u001b[49m\u001b[43mprompt\u001b[49m\u001b[43m)\u001b[49m\u001b[43m,\u001b[49m\n\u001b[0;32m   1284\u001b[0m \u001b[43m    \u001b[49m\u001b[38;5;28;43mself\u001b[39;49m\u001b[38;5;241;43m.\u001b[39;49m\u001b[43m_parent_ident\u001b[49m\u001b[43m[\u001b[49m\u001b[38;5;124;43m\"\u001b[39;49m\u001b[38;5;124;43mshell\u001b[39;49m\u001b[38;5;124;43m\"\u001b[39;49m\u001b[43m]\u001b[49m\u001b[43m,\u001b[49m\n\u001b[0;32m   1285\u001b[0m \u001b[43m    \u001b[49m\u001b[38;5;28;43mself\u001b[39;49m\u001b[38;5;241;43m.\u001b[39;49m\u001b[43mget_parent\u001b[49m\u001b[43m(\u001b[49m\u001b[38;5;124;43m\"\u001b[39;49m\u001b[38;5;124;43mshell\u001b[39;49m\u001b[38;5;124;43m\"\u001b[39;49m\u001b[43m)\u001b[49m\u001b[43m,\u001b[49m\n\u001b[0;32m   1286\u001b[0m \u001b[43m    \u001b[49m\u001b[43mpassword\u001b[49m\u001b[38;5;241;43m=\u001b[39;49m\u001b[38;5;28;43;01mFalse\u001b[39;49;00m\u001b[43m,\u001b[49m\n\u001b[0;32m   1287\u001b[0m \u001b[43m\u001b[49m\u001b[43m)\u001b[49m\n",
      "File \u001b[1;32m~\\AppData\\Roaming\\Python\\Python312\\site-packages\\ipykernel\\kernelbase.py:1325\u001b[0m, in \u001b[0;36mKernel._input_request\u001b[1;34m(self, prompt, ident, parent, password)\u001b[0m\n\u001b[0;32m   1322\u001b[0m \u001b[38;5;28;01mexcept\u001b[39;00m \u001b[38;5;167;01mKeyboardInterrupt\u001b[39;00m:\n\u001b[0;32m   1323\u001b[0m     \u001b[38;5;66;03m# re-raise KeyboardInterrupt, to truncate traceback\u001b[39;00m\n\u001b[0;32m   1324\u001b[0m     msg \u001b[38;5;241m=\u001b[39m \u001b[38;5;124m\"\u001b[39m\u001b[38;5;124mInterrupted by user\u001b[39m\u001b[38;5;124m\"\u001b[39m\n\u001b[1;32m-> 1325\u001b[0m     \u001b[38;5;28;01mraise\u001b[39;00m \u001b[38;5;167;01mKeyboardInterrupt\u001b[39;00m(msg) \u001b[38;5;28;01mfrom\u001b[39;00m \u001b[38;5;28;01mNone\u001b[39;00m\n\u001b[0;32m   1326\u001b[0m \u001b[38;5;28;01mexcept\u001b[39;00m \u001b[38;5;167;01mException\u001b[39;00m:\n\u001b[0;32m   1327\u001b[0m     \u001b[38;5;28mself\u001b[39m\u001b[38;5;241m.\u001b[39mlog\u001b[38;5;241m.\u001b[39mwarning(\u001b[38;5;124m\"\u001b[39m\u001b[38;5;124mInvalid Message:\u001b[39m\u001b[38;5;124m\"\u001b[39m, exc_info\u001b[38;5;241m=\u001b[39m\u001b[38;5;28;01mTrue\u001b[39;00m)\n",
      "\u001b[1;31mKeyboardInterrupt\u001b[0m: Interrupted by user"
     ]
    }
   ],
   "source": [
    "while True:\n",
    "    print(\"Temperature Converter\")\n",
    "    print(\"1. Convert Celsius to Fahrenheit\")\n",
    "    print(\"2. Convert Fahrenheit to Celsius\")\n",
    "    print(\"3. Exit\")\n",
    "\n",
    "    menu = int(input(\"Enter the selected number: \"))\n",
    "\n",
    "    if menu == 1:\n",
    "        print(\"Convert Celsius to Fahrenheit\")\n",
    "        temp = float(input(\"Enter temperature in Celsius: \"))\n",
    "        fahrenheit = (temp * 1.8) + 32\n",
    "        print(fahrenheit)\n",
    "    elif menu == 2:\n",
    "        print(\"Convert Fahrenheit to Celsius\")\n",
    "        temp = float(input(\"Enter temperature in Fahrenheit: \"))\n",
    "        celsius = (temp - 32) / 1.8\n",
    "        print(celsius)\n",
    "    elif menu == 3:\n",
    "        break\n",
    "    else:\n",
    "        print(\"Invalid choice. Please select 1, 2, or 3.\")\n"
   ]
  }
 ],
 "metadata": {
  "kernelspec": {
   "display_name": "Python 3",
   "language": "python",
   "name": "python3"
  },
  "language_info": {
   "codemirror_mode": {
    "name": "ipython",
    "version": 3
   },
   "file_extension": ".py",
   "mimetype": "text/x-python",
   "name": "python",
   "nbconvert_exporter": "python",
   "pygments_lexer": "ipython3",
   "version": "3.12.3"
  }
 },
 "nbformat": 4,
 "nbformat_minor": 2
}
