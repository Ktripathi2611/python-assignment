{
 "cells": [
  {
   "cell_type": "code",
   "execution_count": 11,
   "metadata": {},
   "outputs": [
    {
     "name": "stdout",
     "output_type": "stream",
     "text": [
      "feedback1.txt has been created and written with content.\n"
     ]
    }
   ],
   "source": [
    "\n",
    "content = \"\"\"Alice: 5 - Great service!\n",
    "Bob: 4 - Good, but could improve.\n",
    "\"\"\"\n",
    "\n",
    "with open('feedback1.txt', 'w') as file:\n",
    "    file.write(content)\n",
    "\n",
    "print(\"feedback1.txt has been created and written with content.\")\n"
   ]
  },
  {
   "cell_type": "code",
   "execution_count": 12,
   "metadata": {},
   "outputs": [
    {
     "name": "stdout",
     "output_type": "stream",
     "text": [
      "feedback2.txt has been created and written with content.\n"
     ]
    }
   ],
   "source": [
    "\n",
    "content = \"\"\"Charlie: 3 - Average experience.\n",
    "David: 2 - Not satisfied.\n",
    "\"\"\"\n",
    "with open('feedback2.txt', 'w') as file:\n",
    "    file.write(content)\n",
    "\n",
    "print(\"feedback2.txt has been created and written with content.\")\n"
   ]
  },
  {
   "cell_type": "code",
   "execution_count": 13,
   "metadata": {},
   "outputs": [
    {
     "name": "stdout",
     "output_type": "stream",
     "text": [
      "feedback3.txt has been created and written with content.\n"
     ]
    }
   ],
   "source": [
    "\n",
    "content = \"\"\"Eve: 5 - Excellent!\n",
    "Frank: 1 - Very poor service.\n",
    "\"\"\"\n",
    "\n",
    "with open('feedback3.txt', 'w') as file:\n",
    "    file.write(content)\n",
    "\n",
    "print(\"feedback3.txt has been created and written with content.\")\n"
   ]
  },
  {
   "cell_type": "code",
   "execution_count": null,
   "metadata": {},
   "outputs": [],
   "source": []
  },
  {
   "cell_type": "code",
   "execution_count": 14,
   "metadata": {},
   "outputs": [],
   "source": [
    "data = []\n",
    "rating = []\n",
    "\n",
    "def read_files(all_files):\n",
    "    for file_name in all_files:\n",
    "        try:\n",
    "            with open(file_name, 'r') as f:\n",
    "                data.extend(f.readlines())\n",
    "        except FileNotFoundError:\n",
    "            print(f\"File {file_name} not found !!\")\n",
    "    return data\n",
    "\n",
    "def separate(dt):\n",
    "    for entry in dt:\n",
    "        _, rate = entry.split(':')\n",
    "        rating.append(float(rate.split('-')[0]))\n",
    "    return rating\n",
    "\n",
    "def calculate_average():\n",
    "    total_entries = len(data)\n",
    "    total_rating = sum(rating)\n",
    "    avg = total_rating / total_entries if total_entries else 0\n",
    "    return avg\n",
    "\n",
    "def summary_file(avg):\n",
    "    file_name = 'summary_file.txt'\n",
    "    try:\n",
    "        with open(file_name, 'x') as f:\n",
    "            content = f'Total feedback entries: {len(data)}\\nAverage rating: {avg}'\n",
    "            f.write(content)\n",
    "    except FileExistsError:\n",
    "        print(f\"File {file_name} already exists.\")\n",
    "\n",
    "files = ['feedback1.txt', 'feedback2.txt', 'feedback3.txt']\n",
    "read_files(files)\n",
    "avg_rating = calculate_average()\n",
    "summary_file(avg_rating)\n"
   ]
  }
 ],
 "metadata": {
  "kernelspec": {
   "display_name": "Python 3",
   "language": "python",
   "name": "python3"
  },
  "language_info": {
   "codemirror_mode": {
    "name": "ipython",
    "version": 3
   },
   "file_extension": ".py",
   "mimetype": "text/x-python",
   "name": "python",
   "nbconvert_exporter": "python",
   "pygments_lexer": "ipython3",
   "version": "3.12.3"
  }
 },
 "nbformat": 4,
 "nbformat_minor": 2
}
