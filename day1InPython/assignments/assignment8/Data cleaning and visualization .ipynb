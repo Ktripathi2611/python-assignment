{
 "cells": [
  {
   "cell_type": "code",
   "execution_count": null,
   "metadata": {},
   "outputs": [],
   "source": [
    "import pandas as pd\n",
    " \n",
    "\n",
    "\n"
   ]
  },
  {
   "cell_type": "code",
   "execution_count": null,
   "metadata": {},
   "outputs": [],
   "source": [
    "\n",
    "\n",
    "file_path = r'C:\\Users\\Kushal Tripathi\\python\\day1InPython\\assignments\\assignment8\\cleaned_country_wise_latest.csv'\n",
    "\n",
    "\n",
    "df = pd.read_csv(file_path)\n"
   ]
  },
  {
   "cell_type": "code",
   "execution_count": null,
   "metadata": {},
   "outputs": [],
   "source": [
    "print(df.head())"
   ]
  },
  {
   "cell_type": "code",
   "execution_count": null,
   "metadata": {},
   "outputs": [],
   "source": [
    "df.duplicated()\n",
    "print(df)"
   ]
  },
  {
   "cell_type": "code",
   "execution_count": null,
   "metadata": {},
   "outputs": [],
   "source": [
    "missing_values = df.isna().sum()\n",
    "print(missing_values)"
   ]
  },
  {
   "cell_type": "code",
   "execution_count": null,
   "metadata": {},
   "outputs": [],
   "source": [
    "df.isna().sum()\n",
    "print(df)"
   ]
  },
  {
   "cell_type": "code",
   "execution_count": null,
   "metadata": {},
   "outputs": [],
   "source": [
    "df.dropna()\n",
    "print(df)"
   ]
  },
  {
   "cell_type": "code",
   "execution_count": null,
   "metadata": {},
   "outputs": [],
   "source": [
    "df.drop_duplicates(inplace=True)\n",
    "df"
   ]
  },
  {
   "cell_type": "code",
   "execution_count": null,
   "metadata": {},
   "outputs": [],
   "source": [
    "df.sort_values('Confirmed')\n",
    "df"
   ]
  },
  {
   "cell_type": "code",
   "execution_count": null,
   "metadata": {},
   "outputs": [],
   "source": [
    "df.sort_values('Deaths',ascending=0)"
   ]
  },
  {
   "cell_type": "code",
   "execution_count": null,
   "metadata": {},
   "outputs": [],
   "source": [
    "df.sort_values('Recovered',ascending=0)"
   ]
  },
  {
   "cell_type": "code",
   "execution_count": null,
   "metadata": {},
   "outputs": [],
   "source": [
    "df.sort_values(['New cases','New deaths'],ascending=[0,0])"
   ]
  },
  {
   "cell_type": "code",
   "execution_count": null,
   "metadata": {},
   "outputs": [],
   "source": [
    "df.groupby(['Country/Region','Confirmed','Active']).mean('\tDeaths')"
   ]
  },
  {
   "cell_type": "code",
   "execution_count": null,
   "metadata": {},
   "outputs": [],
   "source": [
    "\n",
    "print(df.sort_values('Confirmed'))  \n",
    "print(df.sort_values('Deaths', ascending=False))  \n",
    "print(df.sort_values('Recovered', ascending=False))  \n",
    "print(df.sort_values(['New cases', 'New deaths'], ascending=[0, 0]))  "
   ]
  },
  {
   "cell_type": "markdown",
   "metadata": {},
   "source": [
    "* file  handling after the data cleaning \n"
   ]
  },
  {
   "cell_type": "code",
   "execution_count": 26,
   "metadata": {},
   "outputs": [
    {
     "name": "stdout",
     "output_type": "stream",
     "text": [
      "Data cleaning completed and saved to 'cleaned_country_wise_latest.csv'.\n"
     ]
    }
   ],
   "source": [
    "\n",
    "\n",
    "# Replace with the actual path to your CSV file\n",
    "filepath = r'C:\\Users\\Kushal Tripathi\\python\\day1InPython\\assignments\\assignment8\\cleaned_country_wise_latest.csv'\n",
    "\n",
    "\n",
    "try:\n",
    "    \n",
    "    df = pd.read_csv(filepath)\n",
    "# Save the cleaned data to a new CSV file\n",
    "    cleaned_data_filepath = 'cleaned_country_wise_latest.csv'  # Adjust the filename as needed\n",
    "    df.to_csv(cleaned_data_filepath, index=False)  # Optionally, exclude the index column\n",
    "    print(f\"Data cleaning completed and saved to '{cleaned_data_filepath}'.\")\n",
    "\n",
    "except FileNotFoundError as e:\n",
    "    print(f\"Error: File '{filepath}' not found. Please ensure the file exists.\")\n",
    "except Exception as e:  # Catch more general exceptions for informative error messages\n",
    "    print(f\"An error occurred during data processing: {e}\")\n"
   ]
  },
  {
   "cell_type": "markdown",
   "metadata": {},
   "source": [
    "data visualiization "
   ]
  },
  {
   "cell_type": "code",
   "execution_count": null,
   "metadata": {},
   "outputs": [],
   "source": [
    "import matplotlib.pyplot as plt\n"
   ]
  },
  {
   "cell_type": "markdown",
   "metadata": {},
   "source": [
    "matplotlib "
   ]
  },
  {
   "cell_type": "code",
   "execution_count": null,
   "metadata": {},
   "outputs": [],
   "source": [
    "df"
   ]
  },
  {
   "cell_type": "code",
   "execution_count": null,
   "metadata": {},
   "outputs": [],
   "source": [
    "df.plot()\n",
    "plt.figure(figsize=[40,10])\n",
    "plt.tight_layout()"
   ]
  },
  {
   "cell_type": "code",
   "execution_count": null,
   "metadata": {},
   "outputs": [],
   "source": [
    "\n",
    "\n",
    "plt.figure(figsize=[30,10])\n",
    "y_values = df['New cases'].unique()\n",
    "x_values = df.groupby('New cases')['1 week % increase'].mean()\n",
    "\n",
    "plt.bar(x_values, y_values)\n",
    "plt.xlabel('New cases')\n",
    "plt.ylabel('1 week % increase')\n",
    "plt.title('COVID-19 Cases')\n",
    "plt.grid()\n",
    "\n",
    "\n",
    "plt.show()\n"
   ]
  },
  {
   "cell_type": "code",
   "execution_count": null,
   "metadata": {},
   "outputs": [],
   "source": [
    "data_grouped = df.groupby('Country/Region')['Confirmed'].sum().sort_values(ascending=False)\n",
    "top_10_countries = data_grouped.head(10)\n",
    "print(top_10_countries)\n",
    "                  "
   ]
  },
  {
   "cell_type": "code",
   "execution_count": null,
   "metadata": {},
   "outputs": [],
   "source": [
    "plt.figure(figsize=(40, 20))  # Set figure size\n",
    "\n",
    "# Use top_10_countries data obtained earlier\n",
    "name_counts = top_10_countries.values  # Get confirmed case counts\n",
    "\n",
    "plt.bar(top_10_countries.index, name_counts)  # Use correct indices and values\n",
    "\n",
    "plt.xlabel('Country/Region')\n",
    "plt.ylabel('Confirmed Cases')\n",
    "plt.title('Top 10 Countries with Highest Confirmed Cases')\n",
    "plt.xticks(rotation=45, ha='right')  # Rotate x-axis labels for better readability\n",
    "plt.tight_layout()\n",
    "plt.show()\n"
   ]
  },
  {
   "cell_type": "code",
   "execution_count": null,
   "metadata": {},
   "outputs": [],
   "source": [
    "\n",
    "# Provided data\n",
    "top_10_countries = {\n",
    "    'US': 4290259,\n",
    "    'Brazil': 2442375,\n",
    "    'India ': 1480073,\n",
    "    'Russia ': 816680,\n",
    "    'South Africa ': 452529,\n",
    "    'Mexico ': 395489,\n",
    "    'Peru ': 389717,\n",
    "    'Chile ': 347923,\n",
    "    'United Kingdom ': 301708,\n",
    "    'Iran ': 293606,\n",
    "}\n",
    "countries = [country.strip() for country in top_10_countries.keys()]\n",
    "cases = list(top_10_countries.values())\n",
    "plt.figure(figsize=(8, 8))  \n",
    "plt.pie(cases, labels=countries, autopct=\"%1.1f%%\", startangle=140)  # Create the pie chart\n",
    "plt.title(\"Top 10 Countries/States with Highest Number of Cases\")\n",
    "plt.axis(\"equal\")\n",
    "plt.show()\n"
   ]
  },
  {
   "cell_type": "code",
   "execution_count": null,
   "metadata": {},
   "outputs": [],
   "source": []
  },
  {
   "cell_type": "code",
   "execution_count": null,
   "metadata": {},
   "outputs": [],
   "source": []
  }
 ],
 "metadata": {
  "kernelspec": {
   "display_name": "Python 3",
   "language": "python",
   "name": "python3"
  },
  "language_info": {
   "codemirror_mode": {
    "name": "ipython",
    "version": 3
   },
   "file_extension": ".py",
   "mimetype": "text/x-python",
   "name": "python",
   "nbconvert_exporter": "python",
   "pygments_lexer": "ipython3",
   "version": "3.12.3"
  }
 },
 "nbformat": 4,
 "nbformat_minor": 2
}
