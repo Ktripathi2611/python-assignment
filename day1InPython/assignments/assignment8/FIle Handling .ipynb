{
 "cells": [
  {
   "cell_type": "code",
   "execution_count": 1,
   "metadata": {},
   "outputs": [],
   "source": [
    "import csv\n",
    "import pandas as pd\n",
    "\n",
    "filepath='C:\\\\Users\\\\Kushal Tripathi\\\\python\\\\Assigment8\\\\country_wise_latest.csv'\n",
    "def read_csv(filepath):\n",
    "\n",
    "  with open(filepath, 'r', newline='') as csvfile:\n",
    "    reader = csv.reader(csvfile)\n",
    "    return pd.DataFrame(list(reader))\n",
    "\n",
    "\n",
    "def write_csv(data, filepath):\n",
    "  \n",
    "  with open(filepath, 'w', newline='') as csvfile:\n",
    "    writer = csv.writer(csvfile)\n",
    "    writer.writerows(data)\n",
    "\n",
    "\n"
   ]
  }
 ],
 "metadata": {
  "kernelspec": {
   "display_name": "Python 3",
   "language": "python",
   "name": "python3"
  },
  "language_info": {
   "codemirror_mode": {
    "name": "ipython",
    "version": 3
   },
   "file_extension": ".py",
   "mimetype": "text/x-python",
   "name": "python",
   "nbconvert_exporter": "python",
   "pygments_lexer": "ipython3",
   "version": "3.12.3"
  }
 },
 "nbformat": 4,
 "nbformat_minor": 2
}
