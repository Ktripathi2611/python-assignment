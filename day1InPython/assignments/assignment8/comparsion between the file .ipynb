{
 "cells": [
  {
   "cell_type": "code",
   "execution_count": 1,
   "metadata": {},
   "outputs": [
    {
     "name": "stdout",
     "output_type": "stream",
     "text": [
      "No significant differences found.\n"
     ]
    }
   ],
   "source": [
    "import pandas as pd\n",
    "\n",
    "\n",
    "def compare_csv_and_display_differences(original_filepath, cleaned_filepath):\n",
    "    \"\"\"\n",
    "    Compares two CSV files and displays only the rows with differences.\n",
    "\n",
    "    Args:\n",
    "        original_filepath (str): The path to the original CSV file.\n",
    "        cleaned_filepath (str): The path to the cleaned CSV file.\n",
    "    \"\"\"\n",
    "\n",
    "    try:\n",
    "        # Read the CSV files into DataFrames\n",
    "        original_df = pd.read_csv(original_filepath)\n",
    "        cleaned_df = pd.read_csv(cleaned_filepath)\n",
    "\n",
    "        # Ensure both DataFrames have the same columns (optional)\n",
    "        # original_df.columns = cleaned_df.columns  # Uncomment if needed\n",
    "\n",
    "        # Identify rows with differences (assuming same column order)\n",
    "        differences = original_df.merge(cleaned_df, indicator=True, how='outer').query('_merge != \"both\"')\n",
    "\n",
    "        # Display only differences\n",
    "        if not differences.empty:\n",
    "            print(\"Differences between DataFrames:\")\n",
    "            print(differences)\n",
    "        else:\n",
    "            print(\"No significant differences found.\")\n",
    "\n",
    "    except FileNotFoundError as e:\n",
    "        print(f\"Error: File '{e.filename}' not found. Please ensure the file exists.\")\n",
    "    except Exception as e:\n",
    "        print(f\"An error occurred during data comparison: {e}\")\n",
    "\n",
    "\n",
    "# Replace with your actual file paths\n",
    "original_filepath = 'C:\\\\Users\\\\Kushal Tripathi\\\\python\\\\Assigment8\\\\country_wise_latest.csv'\n",
    "cleaned_filepath = 'C:\\\\Users\\\\Kushal Tripathi\\\\python\\\\Assigment8\\\\cleaned_country_wise_latest.csv'\n",
    "\n",
    "compare_csv_and_display_differences(original_filepath, cleaned_filepath)\n"
   ]
  }
 ],
 "metadata": {
  "kernelspec": {
   "display_name": "Python 3",
   "language": "python",
   "name": "python3"
  },
  "language_info": {
   "codemirror_mode": {
    "name": "ipython",
    "version": 3
   },
   "file_extension": ".py",
   "mimetype": "text/x-python",
   "name": "python",
   "nbconvert_exporter": "python",
   "pygments_lexer": "ipython3",
   "version": "3.12.3"
  }
 },
 "nbformat": 4,
 "nbformat_minor": 2
}
