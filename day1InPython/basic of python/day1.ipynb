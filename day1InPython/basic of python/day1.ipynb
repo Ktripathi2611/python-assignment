{
 "cells": [
  {
   "cell_type": "code",
   "execution_count": null,
   "metadata": {},
   "outputs": [],
   "source": [
    "a =10\n",
    "a='sagar'\n",
    "print(type(a))\n",
    "print(a)\n",
    "\n",
    "b=10.5\n",
    "print(type (b))"
   ]
  },
  {
   "cell_type": "code",
   "execution_count": null,
   "metadata": {},
   "outputs": [],
   "source": [
    "a = 2\n",
    "b=1\n",
    "print(a+b)\n",
    "print(a-b)\n",
    "print(a*b)\n",
    "print(a/b)\n",
    "print('sag' +'ar')\n",
    "print(a//b)# use to get answer without decimal \n"
   ]
  },
  {
   "cell_type": "code",
   "execution_count": null,
   "metadata": {},
   "outputs": [],
   "source": [
    "x=10\n",
    "x+=5\n",
    "print(5)"
   ]
  },
  {
   "cell_type": "code",
   "execution_count": null,
   "metadata": {},
   "outputs": [],
   "source": [
    "a= True\n",
    "b= False\n",
    "print (a and b )\n",
    "print (a or b )\n",
    "print (not a )\n",
    "print (not b)"
   ]
  },
  {
   "cell_type": "code",
   "execution_count": null,
   "metadata": {},
   "outputs": [],
   "source": [
    "a =2\n",
    "b=3\n",
    "print(a |b)\n",
    "print (a &b)"
   ]
  },
  {
   "cell_type": "code",
   "execution_count": null,
   "metadata": {},
   "outputs": [],
   "source": [
    "name ='sagar '\n",
    "print (' s' in name )"
   ]
  },
  {
   "cell_type": "code",
   "execution_count": null,
   "metadata": {},
   "outputs": [],
   "source": [
    "if 5>1:\n",
    "    print (\"5 is greater \")\n",
    "else:\n",
    "    print(\" 1  is greter \")\n",
    "print(\"hellow wodls\")"
   ]
  },
  {
   "cell_type": "markdown",
   "metadata": {},
   "source": []
  },
  {
   "cell_type": "code",
   "execution_count": null,
   "metadata": {},
   "outputs": [],
   "source": [
    "a = \" kushal \"\n",
    "b = 'v'\n",
    "if ( b in a ):\n",
    "    print(\"  ha bhai  h yeh\")\n",
    "else:\n",
    "    print(\"nhi h  kuch bhi \")"
   ]
  },
  {
   "cell_type": "code",
   "execution_count": null,
   "metadata": {},
   "outputs": [],
   "source": []
  },
  {
   "cell_type": "code",
   "execution_count": null,
   "metadata": {},
   "outputs": [],
   "source": [
    "a = 19\n",
    "if a > 18:\n",
    "    print(\"18 se bada hai\")\n",
    "elif a == 18:\n",
    "    print(\"age 18 hi hai\")\n",
    "else:\n",
    "    print(\"bacha hai\")\n"
   ]
  },
  {
   "cell_type": "code",
   "execution_count": null,
   "metadata": {},
   "outputs": [],
   "source": [
    "print(\" entr number \")\n",
    "a = input()\n",
    "print(a)"
   ]
  },
  {
   "cell_type": "code",
   "execution_count": null,
   "metadata": {},
   "outputs": [],
   "source": [
    "\n",
    "\n",
    "num1 = 10\n",
    "num2 = 14\n",
    "num3 = 12\n",
    "\n",
    "\n",
    "if (num1 >= num2) and (num1 >= num3):\n",
    "    largest = num1\n",
    "elif (num2 >= num1) and (num2 >= num3):\n",
    "    largest = num2\n",
    "else:\n",
    "    largest = num3\n",
    "\n",
    "print(\"The largest number is\", largest)\n",
    "\n",
    "if (num1 <= num2) and (num1 <= num3):\n",
    "    smallest = num1\n",
    "elif (num2 <= num1) and (num2 <= num3):\n",
    "    smallest = num2\n",
    "else:\n",
    "    smallest = num3\n",
    "print(\"The largest number is\", smallest)"
   ]
  },
  {
   "cell_type": "code",
   "execution_count": 11,
   "metadata": {},
   "outputs": [
    {
     "name": "stdout",
     "output_type": "stream",
     "text": [
      "14\n"
     ]
    }
   ],
   "source": [
    "\n",
    "num1 = 10\n",
    "num2 = 14\n",
    "num3 = 12\n",
    "\n",
    "if num1>num2:\n",
    "    if num2>num3:\n",
    "        print(num1)\n",
    "elif num2>num1:\n",
    "    if num2>num3:\n",
    "        print(num2)\n",
    "else:\n",
    "    (num3+ \"is largest\")\n",
    "    \n",
    "if num1<num2:\n",
    "    if num2<num3:\n",
    "        print(num1)\n",
    "elif num2<num1:\n",
    "    if num2<num3:\n",
    "        print(num2)\n",
    "else:\n",
    "    (num3, \"is smallest\")\n",
    "\n"
   ]
  },
  {
   "cell_type": "code",
   "execution_count": 12,
   "metadata": {},
   "outputs": [
    {
     "name": "stdout",
     "output_type": "stream",
     "text": [
      "14\n"
     ]
    }
   ],
   "source": [
    "num1 = 10\n",
    "num2 = 14\n",
    "num3 = 12\n",
    "\n",
    "if num1 > num2:\n",
    "    if num2 > num3:\n",
    "        print(num1)\n",
    "elif num2 > num1:\n",
    "    if num2 > num3:\n",
    "        print(num2)\n",
    "else:\n",
    "    print(num3, \"is largest\")\n",
    "\n",
    "if num1 < num2:\n",
    "    if num2 < num3:\n",
    "        print(num1)\n",
    "elif num2 < num1:\n",
    "    if num2 < num3:\n",
    "        print(num2)\n",
    "else:\n",
    "    print(num3, \"is smallest\")\n"
   ]
  },
  {
   "cell_type": "code",
   "execution_count": 13,
   "metadata": {},
   "outputs": [
    {
     "ename": "TypeError",
     "evalue": "can only concatenate str (not \"int\") to str",
     "output_type": "error",
     "traceback": [
      "\u001b[1;31m---------------------------------------------------------------------------\u001b[0m",
      "\u001b[1;31mTypeError\u001b[0m                                 Traceback (most recent call last)",
      "Cell \u001b[1;32mIn[13], line 10\u001b[0m\n\u001b[0;32m      8\u001b[0m \u001b[38;5;28;01melif\u001b[39;00m(num2\u001b[38;5;241m>\u001b[39m num1):\n\u001b[0;32m      9\u001b[0m     \u001b[38;5;28;01mif\u001b[39;00m(num2\u001b[38;5;241m>\u001b[39m num3):\n\u001b[1;32m---> 10\u001b[0m         \u001b[38;5;28mprint\u001b[39m(\u001b[38;5;124;43m\"\u001b[39;49m\u001b[38;5;124;43mlagest number is \u001b[39;49m\u001b[38;5;124;43m\"\u001b[39;49m\u001b[38;5;241;43m+\u001b[39;49m\u001b[43mnum2\u001b[49m)\n",
      "\u001b[1;31mTypeError\u001b[0m: can only concatenate str (not \"int\") to str"
     ]
    }
   ],
   "source": [
    "num1  = 14\n",
    "num2 =1223\n",
    "num3 = 234\n",
    " #largest number \n",
    "if(num1>num2):\n",
    "    if(num1>num3):\n",
    "        print( num1 , \"  yeh  lagest number \")\n",
    "elif(num2> num1):\n",
    "    if(num2> num3):\n",
    "        print(\"lagest number is \"+num2)"
   ]
  },
  {
   "cell_type": "code",
   "execution_count": 10,
   "metadata": {},
   "outputs": [
    {
     "name": "stdout",
     "output_type": "stream",
     "text": [
      "1223 is the largest number\n",
      "14 is the smallest number\n"
     ]
    }
   ],
   "source": [
    "num1 = 14\n",
    "num2 = 1223\n",
    "num3 = 234\n",
    "\n",
    "# Find the largest number\n",
    "if num1 > num2:\n",
    "    if num1 > num3:\n",
    "        print(num1, \"is the largest number\")\n",
    "elif num2 > num1:\n",
    "    if num2 > num3:\n",
    "        print(num2, \"is the largest number\")\n",
    "else:\n",
    "    print(num3, \"is the largest number\")\n",
    "    \n",
    "    #find the smallest number \n",
    "    \n",
    "if num1 < num2:\n",
    "    if num1 < num3:\n",
    "        print(num1, \"is the smallest number\")\n",
    "elif num2 < num3:\n",
    "    print(num2, \"is the smallest number\")\n",
    "else:\n",
    "    print(num3, \"is the smallest number\")\n",
    "\n"
   ]
  }
 ],
 "metadata": {
  "kernelspec": {
   "display_name": "Python 3",
   "language": "python",
   "name": "python3"
  },
  "language_info": {
   "codemirror_mode": {
    "name": "ipython",
    "version": 3
   },
   "file_extension": ".py",
   "mimetype": "text/x-python",
   "name": "python",
   "nbconvert_exporter": "python",
   "pygments_lexer": "ipython3",
   "version": "3.12.2"
  }
 },
 "nbformat": 4,
 "nbformat_minor": 2
}
