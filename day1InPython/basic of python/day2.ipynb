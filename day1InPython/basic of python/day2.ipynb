{
 "cells": [
  {
   "cell_type": "code",
   "execution_count": null,
   "metadata": {},
   "outputs": [],
   "source": [
    "for i in range (0,10,):\n",
    "    print(i)"
   ]
  },
  {
   "cell_type": "code",
   "execution_count": null,
   "metadata": {},
   "outputs": [],
   "source": [
    "for i in range (0,10,2):\n",
    "    print(i)"
   ]
  },
  {
   "cell_type": "code",
   "execution_count": null,
   "metadata": {},
   "outputs": [],
   "source": [
    "for  i in range(10,0,-1):#to reverse print\n",
    "    print(i)"
   ]
  },
  {
   "cell_type": "code",
   "execution_count": null,
   "metadata": {},
   "outputs": [],
   "source": [
    "name= 'kuhal  '\n",
    "for i in name:\n",
    "    print(i)"
   ]
  },
  {
   "cell_type": "code",
   "execution_count": null,
   "metadata": {},
   "outputs": [],
   "source": [
    "name = 'kushal'\n",
    "print(len(name))"
   ]
  },
  {
   "cell_type": "code",
   "execution_count": null,
   "metadata": {},
   "outputs": [],
   "source": [
    "name ='kushal'\n",
    "for i in range (len(name)-1,-1,-1): # to reverse print the string\n",
    "    print(name[i])"
   ]
  },
  {
   "cell_type": "code",
   "execution_count": null,
   "metadata": {},
   "outputs": [],
   "source": [
    "for i in range (3,20,3):\n",
    "    print(i)"
   ]
  },
  {
   "cell_type": "code",
   "execution_count": null,
   "metadata": {},
   "outputs": [],
   "source": [
    "i =1\n",
    "while i <= 10 :\n",
    "    i+=1\n",
    "    print(i)"
   ]
  },
  {
   "cell_type": "code",
   "execution_count": null,
   "metadata": {},
   "outputs": [],
   "source": [
    "strt =int(input(\"enter the strt variable\"))\n",
    "end =int(input(\"enter the  end  variable\"))\n",
    "\n",
    "while strt <=end:\n",
    "    print(strt)\n",
    "    strt+=1\n"
   ]
  },
  {
   "cell_type": "code",
   "execution_count": null,
   "metadata": {},
   "outputs": [],
   "source": [
    "a = True\n",
    "i =0\n",
    "while a == True:\n",
    "    if i ==5:\n",
    "        a =False\n",
    "        i+=1\n",
    "        print(i)\n",
    "        i+=1"
   ]
  },
  {
   "cell_type": "code",
   "execution_count": null,
   "metadata": {},
   "outputs": [],
   "source": [
    "a = True\n",
    "i = 0\n",
    "while a == True:\n",
    "    if i == 5:\n",
    "        a = False\n",
    "    i += 1\n",
    "    print(i)\n"
   ]
  },
  {
   "cell_type": "code",
   "execution_count": null,
   "metadata": {},
   "outputs": [],
   "source": [
    "a =5\n",
    "b =input(\"enter the  number to guess ur dark  future \")\n",
    "while True== 5:\n",
    "     if b== 5:\n",
    "         a= True\n",
    "         print(i)"
   ]
  },
  {
   "cell_type": "code",
   "execution_count": null,
   "metadata": {},
   "outputs": [],
   "source": [
    "n = 5\n",
    "a = True\n",
    "\n",
    "while a:\n",
    "    x = int(input('Enter a number: '))\n",
    "    if n == x:\n",
    "        print('Congratulations! You guessed the correct number.')\n",
    "        a = False\n",
    "    elif x < n:\n",
    "        print('Try a higher number.')\n",
    "    else:\n",
    "        print('Try a lower number.')\n"
   ]
  },
  {
   "cell_type": "code",
   "execution_count": null,
   "metadata": {},
   "outputs": [],
   "source": [
    "for i  in range (10):\n",
    "    if i==5:\n",
    "        break\n",
    "    print(i)\n",
    "    i+=1"
   ]
  },
  {
   "cell_type": "code",
   "execution_count": null,
   "metadata": {},
   "outputs": [],
   "source": [
    "for i  in range (10):\n",
    "    if i==5:\n",
    "       continue\n",
    "    print(i)\n",
    "    i+=1"
   ]
  },
  {
   "cell_type": "code",
   "execution_count": null,
   "metadata": {},
   "outputs": [],
   "source": [
    "for i in range(10):\n",
    "    if i == 5 or i == 9:\n",
    "        continue\n",
    "    print(i)\n"
   ]
  },
  {
   "cell_type": "code",
   "execution_count": null,
   "metadata": {},
   "outputs": [],
   "source": [
    "for i in range (10):\n",
    "    pass\n",
    "print"
   ]
  },
  {
   "cell_type": "code",
   "execution_count": null,
   "metadata": {},
   "outputs": [],
   "source": [
    "name ='kushal bhavesh are frnds '\n",
    "for i in range (len(name)-1,-1,-1): # to reverse print the string\n",
    "    print(name[i])"
   ]
  },
  {
   "cell_type": "code",
   "execution_count": 4,
   "metadata": {},
   "outputs": [
    {
     "name": "stdout",
     "output_type": "stream",
     "text": [
      "hsevahb\n"
     ]
    }
   ],
   "source": [
    "name =\"bhavesh\"\n",
    "print(name[::-1])"
   ]
  },
  {
   "cell_type": "code",
   "execution_count": 12,
   "metadata": {},
   "outputs": [
    {
     "name": "stdout",
     "output_type": "stream",
     "text": [
      "TONY   STARK YADAV\n",
      "tony   stark yadav\n",
      "7\n",
      "tony   stark yadav\n",
      "True\n",
      "True\n",
      "False\n",
      "['tony', 'stark', 'yadav']\n",
      "bhavesh  stark yadav\n",
      "<class 'list'>\n"
     ]
    }
   ],
   "source": [
    "#strings\n",
    "name = \"tony   stark yadav\"\n",
    "print(name.upper())\n",
    "print(name.lower())\n",
    "print(name.find('stark'))\n",
    "print(name.replace(\"tony stark\", \"ironman\"))\n",
    "print(\"t\"in name)\n",
    "print(\"stark\" in name )\n",
    "print(\"hell\" in name )\n",
    "print(name.split())\n",
    "print(name.replace('tony ', 'bhavesh'))\n",
    "print(type(name.split()))"
   ]
  },
  {
   "cell_type": "code",
   "execution_count": 14,
   "metadata": {},
   "outputs": [
    {
     "name": "stdout",
     "output_type": "stream",
     "text": [
      "('a', 'b', 'c', 'd', 'e', 'f')\n"
     ]
    }
   ],
   "source": [
    "a = (\"a\", \"b\", \"c\", \"d\", \"e\", \"f\", \"g\", \"h\")\n",
    "x = slice(6)\n",
    "print(a[x])"
   ]
  },
  {
   "cell_type": "code",
   "execution_count": 15,
   "metadata": {},
   "outputs": [
    {
     "name": "stdout",
     "output_type": "stream",
     "text": [
      "[1, 12, 2, 3, 5, 7]\n"
     ]
    }
   ],
   "source": [
    "a  = [1,12,2,3,5,7,]\n",
    "print(a)"
   ]
  }
 ],
 "metadata": {
  "kernelspec": {
   "display_name": "Python 3",
   "language": "python",
   "name": "python3"
  },
  "language_info": {
   "codemirror_mode": {
    "name": "ipython",
    "version": 3
   },
   "file_extension": ".py",
   "mimetype": "text/x-python",
   "name": "python",
   "nbconvert_exporter": "python",
   "pygments_lexer": "ipython3",
   "version": "3.12.3"
  }
 },
 "nbformat": 4,
 "nbformat_minor": 2
}
