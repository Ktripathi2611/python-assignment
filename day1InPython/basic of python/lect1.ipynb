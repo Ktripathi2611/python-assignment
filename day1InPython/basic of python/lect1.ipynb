{
 "cells": [
  {
   "cell_type": "code",
   "execution_count": 7,
   "metadata": {},
   "outputs": [
    {
     "name": "stdout",
     "output_type": "stream",
     "text": [
      "<class 'int'>\n",
      "<class 'str'>\n",
      "Sagar\n",
      "<class 'float'>\n",
      "<class 'bool'>\n"
     ]
    }
   ],
   "source": [
    "a=10\n",
    "print(type(a))\n",
    "a='Sagar'\n",
    "print(type(a))\n",
    "print(a)\n",
    "\n",
    "b=10.588\n",
    "print(type(b))\n",
    "\n",
    "c=True\n",
    "print(type(c))\n"
   ]
  },
  {
   "cell_type": "code",
   "execution_count": 2,
   "metadata": {},
   "outputs": [
    {
     "name": "stdout",
     "output_type": "stream",
     "text": [
      "3\n",
      "sagar\n",
      "1\n",
      "2\n",
      "2.0\n",
      "2\n",
      "8\n",
      "9\n"
     ]
    }
   ],
   "source": [
    "a=2\n",
    "b=1\n",
    "print(a+b)\n",
    "print('sag'+'ar')\n",
    "print(a-b)\n",
    "print(a*b)\n",
    "print(a/b)\n",
    "\n",
    "print(a//b)\n",
    "\n",
    "a=2\n",
    "b=3\n",
    "print(a**b)\n",
    "print(b**a)"
   ]
  },
  {
   "cell_type": "code",
   "execution_count": 12,
   "metadata": {},
   "outputs": [
    {
     "name": "stdout",
     "output_type": "stream",
     "text": [
      "0\n",
      "True\n"
     ]
    }
   ],
   "source": [
    "x=10\n",
    "x%=5\n",
    "print(x)\n",
    "\n",
    "print(5<10)"
   ]
  },
  {
   "cell_type": "code",
   "execution_count": 15,
   "metadata": {},
   "outputs": [
    {
     "name": "stdout",
     "output_type": "stream",
     "text": [
      "True\n"
     ]
    }
   ],
   "source": [
    "a=10\n",
    "b=1\n",
    "print(a>b)"
   ]
  },
  {
   "cell_type": "code",
   "execution_count": 20,
   "metadata": {},
   "outputs": [
    {
     "name": "stdout",
     "output_type": "stream",
     "text": [
      "False\n",
      "True\n",
      "True\n"
     ]
    }
   ],
   "source": [
    "a=True\n",
    "b=False\n",
    "print(a and b)\n",
    "print(a or b)\n",
    "print(not b)"
   ]
  },
  {
   "cell_type": "code",
   "execution_count": 42,
   "metadata": {},
   "outputs": [
    {
     "name": "stdout",
     "output_type": "stream",
     "text": [
      "0\n"
     ]
    }
   ],
   "source": [
    "a=1 # 0001\n",
    "b=4 # 0100\n",
    "    # 0000\n",
    "print(a & b)"
   ]
  },
  {
   "cell_type": "code",
   "execution_count": 34,
   "metadata": {},
   "outputs": [
    {
     "name": "stdout",
     "output_type": "stream",
     "text": [
      "12\n",
      "2\n"
     ]
    }
   ],
   "source": [
    "a=3 #0011-->0001-->0000\n",
    "b=2\n",
    "c=8 #1000->0100-->0010\n",
    "print(a<<b)\n",
    "print(c>>b)\n",
    "print(b<<a)"
   ]
  },
  {
   "cell_type": "code",
   "execution_count": 39,
   "metadata": {},
   "outputs": [
    {
     "name": "stdout",
     "output_type": "stream",
     "text": [
      "False\n"
     ]
    }
   ],
   "source": [
    "name = 'Sagar'\n",
    "print('S' not in name)"
   ]
  },
  {
   "cell_type": "markdown",
   "metadata": {},
   "source": [
    "if(condition) {\n",
    "    \n",
    "} else if(condition){\n",
    "\n",
    "} else {\n",
    "    \n",
    "}"
   ]
  },
  {
   "cell_type": "code",
   "execution_count": 44,
   "metadata": {},
   "outputs": [
    {
     "name": "stdout",
     "output_type": "stream",
     "text": [
      "1 is greater\n",
      "hello world\n"
     ]
    }
   ],
   "source": [
    "# if (condition):\n",
    "#     // statements\n",
    "\n",
    "if 5<1:\n",
    "    print('5 is greater')\n",
    "else:\n",
    "    print('1 is greater')\n",
    "\n",
    "print('hello world')"
   ]
  },
  {
   "cell_type": "markdown",
   "metadata": {},
   "source": [
    "if condition :\n",
    "    // statements\n",
    "elif condition :\n",
    "    // Statements\n",
    "elif condition :\n",
    "    //\n",
    "else:\n",
    "    ougyihbg"
   ]
  },
  {
   "cell_type": "code",
   "execution_count": null,
   "metadata": {},
   "outputs": [],
   "source": []
  },
  {
   "cell_type": "code",
   "execution_count": null,
   "metadata": {},
   "outputs": [],
   "source": [
    "if 2<5:\n",
    "    print('yes')\n",
    "elif 2<10:\n",
    "    print('hbfihewk')\n",
    "else:\n",
    "    "
   ]
  },
  {
   "cell_type": "code",
   "execution_count": 57,
   "metadata": {},
   "outputs": [
    {
     "name": "stdout",
     "output_type": "stream",
     "text": [
      "<class 'int'>\n"
     ]
    }
   ],
   "source": [
    "# print(\"Enter a number \")\n",
    "a = int(input(\"Enter a number \"))\n",
    "\n",
    "print(type(b))"
   ]
  },
  {
   "cell_type": "code",
   "execution_count": null,
   "metadata": {},
   "outputs": [],
   "source": []
  },
  {
   "cell_type": "code",
   "execution_count": null,
   "metadata": {},
   "outputs": [],
   "source": []
  }
 ],
 "metadata": {
  "kernelspec": {
   "display_name": "Python 3",
   "language": "python",
   "name": "python3"
  },
  "language_info": {
   "codemirror_mode": {
    "name": "ipython",
    "version": 3
   },
   "file_extension": ".py",
   "mimetype": "text/x-python",
   "name": "python",
   "nbconvert_exporter": "python",
   "pygments_lexer": "ipython3",
   "version": "3.9.13"
  }
 },
 "nbformat": 4,
 "nbformat_minor": 2
}
