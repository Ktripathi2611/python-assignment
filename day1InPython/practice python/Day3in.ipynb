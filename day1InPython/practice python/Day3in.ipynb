{
 "cells": [
  {
   "cell_type": "code",
   "execution_count": null,
   "metadata": {},
   "outputs": [],
   "source": [
    "lst= [1,2,3,4,5]\n",
    "lst.append(6)\n",
    "print(lst)    #use of append\n",
    "lst.append(\"kushaL  \")\n",
    "print(lst)"
   ]
  },
  {
   "cell_type": "code",
   "execution_count": null,
   "metadata": {},
   "outputs": [],
   "source": [
    "lst =[1,2,3,4,5]\n",
    "lst1 = [6,7,8,9]\n",
    "lst.extend(lst1) #use of extend\n",
    "print(lst)\n",
    "lst.insert(3,\" sagr\")\n",
    "print(lst)\n",
    "lst.pop()\n",
    "print(lst)\n",
    "lst.pop(1)\n",
    "print(lst)"
   ]
  },
  {
   "cell_type": "code",
   "execution_count": null,
   "metadata": {},
   "outputs": [],
   "source": [
    "lst =list()\n",
    "lst.append([1,2,3])\n",
    "lst.append([4,5,6])\n",
    "lst.append([7,8,9])\n",
    "print(lst)"
   ]
  },
  {
   "cell_type": "code",
   "execution_count": null,
   "metadata": {},
   "outputs": [],
   "source": [
    "lst =[1,2,3,4,5]\n",
    "print(lst.pop())\n",
    "lst.pop()\n",
    "print(lst)\n",
    "lst.pop()"
   ]
  },
  {
   "cell_type": "code",
   "execution_count": null,
   "metadata": {},
   "outputs": [],
   "source": [
    "lst =[1,2,3,4,5]\n",
    "print(lst.index(4))\n"
   ]
  },
  {
   "cell_type": "code",
   "execution_count": null,
   "metadata": {},
   "outputs": [],
   "source": [
    "lst=[834,445,34,2,3,32,2332,2,34]\n",
    "lst.sort()\n",
    "print(lst)\n",
    "lsst= ['kusahl','kwwin','yaa maa men','bhavesh']\n",
    "lsst.sort()\n",
    "print(lsst)"
   ]
  },
  {
   "cell_type": "code",
   "execution_count": null,
   "metadata": {},
   "outputs": [],
   "source": [
    "lst =[1,2,3,4,5]\n",
    "lst.remove(2)\n",
    "print(lst)\n",
    "lst\n",
    "lst.reverse()\n",
    "print(lst)\n",
    "\n",
    "lst.sort( reverse=True)\n",
    "print(lst)\n",
    "lst.count(1)"
   ]
  },
  {
   "cell_type": "code",
   "execution_count": null,
   "metadata": {},
   "outputs": [],
   "source": [
    "lst=[]\n",
    "for i  in range(21):\n",
    "    if i%2==0:\n",
    "        lst.append(i)\n",
    "        print(i)\n"
   ]
  },
  {
   "cell_type": "markdown",
   "metadata": {},
   "source": [
    "list comprehesnion"
   ]
  },
  {
   "cell_type": "code",
   "execution_count": null,
   "metadata": {},
   "outputs": [],
   "source": [
    "ls = [ i for i in range (0,20)]\n",
    "ls"
   ]
  },
  {
   "cell_type": "code",
   "execution_count": null,
   "metadata": {},
   "outputs": [],
   "source": [
    "ls =[ i for i  in range (20,0,-1) ]\n",
    "ls"
   ]
  },
  {
   "cell_type": "code",
   "execution_count": null,
   "metadata": {},
   "outputs": [],
   "source": []
  },
  {
   "cell_type": "code",
   "execution_count": null,
   "metadata": {},
   "outputs": [],
   "source": [
    "lst =[str(i) for i in range  (20)]\n",
    "lst"
   ]
  },
  {
   "cell_type": "code",
   "execution_count": null,
   "metadata": {},
   "outputs": [],
   "source": [
    "lst = [i for i in range(int(input(\"Enter a no.\")),int(input(\"enter a no.\")),int(input(\"Enter a no.\")))]\n",
    "print(lst)"
   ]
  },
  {
   "cell_type": "code",
   "execution_count": null,
   "metadata": {},
   "outputs": [],
   "source": [
    "# tupple are immutable\n",
    "# t= tupple()\n",
    "# t=()\n",
    "t=( \"kushal\",1,2,35,54,4 ,[1,2,3,4],('ABC',26))\n",
    "t=(\"kushal\",\"tripathi\")\n",
    "type(t)\n",
    "print(t)\n"
   ]
  },
  {
   "cell_type": "code",
   "execution_count": null,
   "metadata": {},
   "outputs": [],
   "source": [
    "t1=(1,2,3,4)\n",
    "t2=(5,6,7,8)\n",
    "t3=t1+t2\n",
    "print(t3)"
   ]
  },
  {
   "cell_type": "code",
   "execution_count": 53,
   "metadata": {},
   "outputs": [
    {
     "name": "stdout",
     "output_type": "stream",
     "text": [
      "1\n",
      "2\n",
      "3\n",
      "4\n",
      "kushal \n",
      "tripthi \n"
     ]
    }
   ],
   "source": [
    "t1 = (1,2,3,4,\"kushal \",\"tripthi \")\n",
    "for i in  range (len(t1)):\n",
    "    print(t1[i])\n",
    "    "
   ]
  },
  {
   "cell_type": "code",
   "execution_count": null,
   "metadata": {},
   "outputs": [],
   "source": [
    "for i in t1 :\n",
    "    print(i)"
   ]
  },
  {
   "cell_type": "code",
   "execution_count": 55,
   "metadata": {},
   "outputs": [
    {
     "name": "stdout",
     "output_type": "stream",
     "text": [
      "(0, 1)\n",
      "(1, 2)\n",
      "(2, 3)\n",
      "(3, 4)\n",
      "(4, 'kushal ')\n",
      "(5, 'tripthi ')\n"
     ]
    }
   ],
   "source": [
    "for i  in enumerate(t1):\n",
    "    print(i)"
   ]
  },
  {
   "cell_type": "code",
   "execution_count": 56,
   "metadata": {},
   "outputs": [
    {
     "name": "stdout",
     "output_type": "stream",
     "text": [
      "0 1\n",
      "1 2\n",
      "2 3\n",
      "3 4\n",
      "4 kushal \n",
      "5 tripthi \n"
     ]
    }
   ],
   "source": [
    "for i in range (len(t1)):\n",
    "    print(i,t1[i])"
   ]
  },
  {
   "cell_type": "code",
   "execution_count": 65,
   "metadata": {},
   "outputs": [
    {
     "name": "stdout",
     "output_type": "stream",
     "text": [
      "{'u', 's', 'h', 'a', 'k', 'l'}\n",
      "{1, 2, 3, 4, 5, 6, 7}\n",
      "{'abc ', 'abcd', 'abcde', 'abcdef'}\n"
     ]
    }
   ],
   "source": [
    "s =set(\"kusahl\")\n",
    "print (s)\n",
    "\n",
    "s1={1,2,3,4,5,6,7}\n",
    "s2={\"abc \", \"abcd\", \"abcde\",\"abcdef\"}\n",
    "print (s1)\n",
    "print (s2)"
   ]
  },
  {
   "cell_type": "code",
   "execution_count": 68,
   "metadata": {},
   "outputs": [
    {
     "data": {
      "text/plain": [
       "{'a', 'h', 'k', 'l', 's', 'sagar', 'u'}"
      ]
     },
     "execution_count": 68,
     "metadata": {},
     "output_type": "execute_result"
    }
   ],
   "source": [
    "s.add(\"sagar\")\n",
    "s"
   ]
  },
  {
   "cell_type": "code",
   "execution_count": 73,
   "metadata": {},
   "outputs": [
    {
     "name": "stdout",
     "output_type": "stream",
     "text": [
      "{32, 2, 324, 12, 'a', 'sagar', 435, 'k', 'l'}\n",
      "{32, 2, 324, 'a', 'sagar', 435, 'k', 'l'}\n",
      "{32, 2, 324, 12, 'a', 'sagar', 435, 'k', 'l'}\n"
     ]
    }
   ],
   "source": [
    "print (s)\n",
    "s.pop()\n",
    "print(s)\n",
    "s.update((12,32,324,435,2))\n",
    "print(s)"
   ]
  }
 ],
 "metadata": {
  "kernelspec": {
   "display_name": "Python 3",
   "language": "python",
   "name": "python3"
  },
  "language_info": {
   "codemirror_mode": {
    "name": "ipython",
    "version": 3
   },
   "file_extension": ".py",
   "mimetype": "text/x-python",
   "name": "python",
   "nbconvert_exporter": "python",
   "pygments_lexer": "ipython3",
   "version": "3.12.3"
  }
 },
 "nbformat": 4,
 "nbformat_minor": 2
}
