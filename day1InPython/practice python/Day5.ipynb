{
 "cells": [
  {
   "cell_type": "markdown",
   "metadata": {},
   "source": [
    "oop in python\n",
    "\n",
    "class classname :\n",
    "pass\n",
    "obj = classname()\n"
   ]
  },
  {
   "cell_type": "code",
   "execution_count": null,
   "metadata": {},
   "outputs": [],
   "source": [
    "class Car:\n",
    "    def __init__(self, a, b):\n",
    "        self.power = a\n",
    "        self.speed = b\n",
    "        print(\"Constructor is created:\", self.power, self.speed)\n",
    "\n",
    "    def running(self, n):\n",
    "        print(\"Car running...\", n)\n",
    "\n",
    "    def brake(self, n1):\n",
    "        print(\"Stopped,\", n1)\n",
    "\n",
    "mustang = Car(10000, 20000)\n",
    "nano = Car(232000, 322341)\n",
    "\n",
    "mustang.running(10)\n",
    "nano.running(20)\n",
    "nano.brake(30)\n",
    "\n"
   ]
  },
  {
   "cell_type": "markdown",
   "metadata": {},
   "source": [
    "costructor"
   ]
  },
  {
   "cell_type": "code",
   "execution_count": null,
   "metadata": {},
   "outputs": [],
   "source": [
    "class batch4:\n",
    "    def display(self):\n",
    "        print(\"this is batch 4\")"
   ]
  },
  {
   "cell_type": "code",
   "execution_count": 41,
   "metadata": {},
   "outputs": [
    {
     "name": "stdout",
     "output_type": "stream",
     "text": [
      "0\n",
      "1\n",
      "2\n",
      "3\n",
      "4\n"
     ]
    },
    {
     "data": {
      "text/plain": [
       "[<__main__.Vehicle at 0x1f076cea9c0>,\n",
       " <__main__.Vehicle at 0x1f076ce9c10>,\n",
       " <__main__.Vehicle at 0x1f076ce8350>,\n",
       " <__main__.Vehicle at 0x1f076cebe30>,\n",
       " <__main__.Vehicle at 0x1f076ce9e50>]"
      ]
     },
     "execution_count": 41,
     "metadata": {},
     "output_type": "execute_result"
    }
   ],
   "source": [
    "class Vehicle:\n",
    "    def __init__(self, i):\n",
    "        print(i)\n",
    "    def display(self):\n",
    "        print(\"called\")\n",
    "\n",
    "lst = [Vehicle(i) for i in range(5)]\n",
    "lst\n"
   ]
  },
  {
   "cell_type": "code",
   "execution_count": 45,
   "metadata": {},
   "outputs": [
    {
     "name": "stdout",
     "output_type": "stream",
     "text": [
      "Result for m1: 10\n",
      "Result for m2: 40\n"
     ]
    }
   ],
   "source": [
    "class Maths:\n",
    "    def __init__(self, a, b):\n",
    "        self.result = a + b\n",
    "\n",
    "# Create instances of the Maths class\n",
    "m1 = Maths(5, 5)\n",
    "m2 = Maths(20,20)\n",
    "\n",
    "# Access the result attribute\n",
    "print(\"Result for m1:\", m1.result)\n",
    "print(\"Result for m2:\", m2.result)\n"
   ]
  },
  {
   "cell_type": "code",
   "execution_count": 50,
   "metadata": {},
   "outputs": [
    {
     "name": "stdout",
     "output_type": "stream",
     "text": [
      "eating............ \n",
      "shedding.............\n"
     ]
    }
   ],
   "source": [
    "class animal:\n",
    "    def eating (self ):\n",
    "        print(\"eating............ \")\n",
    "\n",
    "class dog(animal):\n",
    "    def shed(self):\n",
    "        print(\"shedding.............\")\n",
    "    pass\n",
    "lab = dog ()\n",
    "lab.eating()\n",
    "lab.shed()"
   ]
  },
  {
   "cell_type": "code",
   "execution_count": null,
   "metadata": {},
   "outputs": [],
   "source": []
  },
  {
   "cell_type": "code",
   "execution_count": 51,
   "metadata": {},
   "outputs": [],
   "source": [
    "class a:\n",
    "    pass\n",
    "class b(a):\n",
    "    pass\n",
    "class c(b):\n",
    "    pass"
   ]
  },
  {
   "cell_type": "code",
   "execution_count": 52,
   "metadata": {},
   "outputs": [],
   "source": [
    "class a:\n",
    "    pass\n",
    "class b():\n",
    "    pass\n",
    "class c(a,b):\n",
    "    pass"
   ]
  },
  {
   "cell_type": "code",
   "execution_count": null,
   "metadata": {},
   "outputs": [],
   "source": [
    "class a:\n",
    "    pass\n",
    "class b(a):\n",
    "    pass\n",
    "class c(a,b):\n",
    "    pass"
   ]
  },
  {
   "cell_type": "code",
   "execution_count": 68,
   "metadata": {},
   "outputs": [
    {
     "name": "stdout",
     "output_type": "stream",
     "text": [
      "con\n",
      "this is parent class\n",
      "this is child class\n"
     ]
    }
   ],
   "source": [
    "class Parent:\n",
    "    def __init__(self):\n",
    "        print('con')\n",
    "    def display(self,msg):\n",
    "        print(f\"this is {msg} class\")\n",
    "\n",
    "class child(Parent):\n",
    "    def display(self):\n",
    "        super().display('parent')\n",
    "        print('this is child class')\n",
    "\n",
    "c1 = child()\n",
    "c1.display()"
   ]
  },
  {
   "cell_type": "code",
   "execution_count": 69,
   "metadata": {},
   "outputs": [
    {
     "name": "stdout",
     "output_type": "stream",
     "text": [
      "dad constructor\n",
      "child constructor\n"
     ]
    }
   ],
   "source": [
    "class Dad:\n",
    "    def __init__(self):\n",
    "        print('dad constructor')\n",
    "    def display(self,msg):\n",
    "        print('Dad class')\n",
    "        print(f\"this is {msg} class\")\n",
    "\n",
    "class Mom:\n",
    "     def __init__(self):\n",
    "        print('mom constructor')\n",
    "     def display(self,msg):\n",
    "        print('Mom class')\n",
    "        print(f\"this is {msg} class\")\n",
    "\n",
    "class child(Dad,Mom):\n",
    "    def __init__(self):\n",
    "        super().__init__()\n",
    "        print('child constructor')\n",
    "\n",
    "c1=child()"
   ]
  },
  {
   "cell_type": "code",
   "execution_count": 72,
   "metadata": {},
   "outputs": [
    {
     "ename": "AttributeError",
     "evalue": "'int' object has no attribute '_pasward'",
     "output_type": "error",
     "traceback": [
      "\u001b[1;31m---------------------------------------------------------------------------\u001b[0m",
      "\u001b[1;31mAttributeError\u001b[0m                            Traceback (most recent call last)",
      "Cell \u001b[1;32mIn[72], line 14\u001b[0m\n\u001b[0;32m     12\u001b[0m a\u001b[38;5;241m=\u001b[39m obj\u001b[38;5;241m.\u001b[39m_pasward\n\u001b[0;32m     13\u001b[0m obj\u001b[38;5;241m.\u001b[39m_pasward\u001b[38;5;241m=\u001b[39m \u001b[38;5;241m987979\u001b[39m\n\u001b[1;32m---> 14\u001b[0m \u001b[43ma\u001b[49m\u001b[38;5;241;43m.\u001b[39;49m\u001b[43m_pasward\u001b[49m\n",
      "\u001b[1;31mAttributeError\u001b[0m: 'int' object has no attribute '_pasward'"
     ]
    }
   ],
   "source": [
    "class a:\n",
    "    __name = \"kushal\"\n",
    "    _pasward =1234\n",
    "\n",
    "def display(self):\n",
    "    print(self. __name , \" \",self._pasward)\n",
    "class b(a):\n",
    "    def display(self):\n",
    "        print(self.__name,' ',self._pasward)\n",
    "\n",
    "obj =b()\n",
    "a= obj._pasward\n",
    "obj._pasward= 987979\n",
    "a._pasward"
   ]
  },
  {
   "cell_type": "code",
   "execution_count": 16,
   "metadata": {},
   "outputs": [
    {
     "data": {
      "text/plain": [
       "6"
      ]
     },
     "execution_count": 16,
     "metadata": {},
     "output_type": "execute_result"
    }
   ],
   "source": [
    "f= open ('file.txt', 'w')\n",
    "f.write('hellow duniya ')\n",
    "f.write('kushal')\n"
   ]
  },
  {
   "cell_type": "code",
   "execution_count": 17,
   "metadata": {},
   "outputs": [
    {
     "data": {
      "text/plain": [
       "b'hellow duniya kushal/N fghyt'"
      ]
     },
     "execution_count": 17,
     "metadata": {},
     "output_type": "execute_result"
    }
   ],
   "source": [
    "#rb -> read and binary\n",
    "f = open('file.txt', 'rb')\n",
    "f.read()"
   ]
  },
  {
   "cell_type": "code",
   "execution_count": 21,
   "metadata": {},
   "outputs": [
    {
     "data": {
      "text/plain": [
       "3"
      ]
     },
     "execution_count": 21,
     "metadata": {},
     "output_type": "execute_result"
    }
   ],
   "source": [
    "#append\n",
    "f = open('file.txt','a')\n",
    "f.write('xyz')\n",
    "\n"
   ]
  },
  {
   "cell_type": "code",
   "execution_count": 26,
   "metadata": {},
   "outputs": [
    {
     "data": {
      "text/plain": [
       "''"
      ]
     },
     "execution_count": 26,
     "metadata": {},
     "output_type": "execute_result"
    }
   ],
   "source": [
    "f = open('file.txt','r+')\n",
    "f.read()\n",
    "f.write('xyzzz')\n",
    "f.read()"
   ]
  }
 ],
 "metadata": {
  "kernelspec": {
   "display_name": "Python 3",
   "language": "python",
   "name": "python3"
  },
  "language_info": {
   "codemirror_mode": {
    "name": "ipython",
    "version": 3
   },
   "file_extension": ".py",
   "mimetype": "text/x-python",
   "name": "python",
   "nbconvert_exporter": "python",
   "pygments_lexer": "ipython3",
   "version": "3.12.3"
  }
 },
 "nbformat": 4,
 "nbformat_minor": 2
}
