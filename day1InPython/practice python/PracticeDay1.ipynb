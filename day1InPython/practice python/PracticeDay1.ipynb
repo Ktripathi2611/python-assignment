{
 "cells": [
  {
   "cell_type": "code",
   "execution_count": 2,
   "metadata": {},
   "outputs": [
    {
     "name": "stdout",
     "output_type": "stream",
     "text": [
      "hellow worlds\n",
      "hellow my name is kushal\n"
     ]
    }
   ],
   "source": [
    "print(\"hellow worlds\")\n",
    "print(\"hellow my name is kushal\")"
   ]
  },
  {
   "cell_type": "code",
   "execution_count": 5,
   "metadata": {},
   "outputs": [
    {
     "name": "stdout",
     "output_type": "stream",
     "text": [
      "name\n",
      "kushal \n",
      "22\n",
      "tripathi\n"
     ]
    }
   ],
   "source": [
    "# variable in python\n",
    "name =\"kushal \"\n",
    "age= 22\n",
    "print(\"name\")\n",
    "print(name)\n",
    "print (age)\n",
    "\n",
    "name =\"kushal\" #declaring the name \n",
    "name =\"tripathi\" #overriding name\n",
    "print(name)\n",
    "\n",
    "#BOOLEAN\n",
    "is_adult = True\n"
   ]
  },
  {
   "cell_type": "code",
   "execution_count": 9,
   "metadata": {},
   "outputs": [
    {
     "name": "stdout",
     "output_type": "stream",
     "text": [
      "alok\n",
      "hello  alok\n",
      "hellow alok\n"
     ]
    }
   ],
   "source": [
    "#user input\n",
    "\n",
    "input_name =input(\"what is yr name \")\n",
    "print(input_name)\n",
    "print(\"hello \",input_name)\n",
    "print(\"hellow \"+input_name)#we can use either \", \" or \"+ \"  to concat msg and variable"
   ]
  },
  {
   "cell_type": "code",
   "execution_count": 14,
   "metadata": {},
   "outputs": [
    {
     "name": "stdout",
     "output_type": "stream",
     "text": [
      "1125\n",
      "10.0\n",
      "10\n",
      "10\n"
     ]
    }
   ],
   "source": [
    "#type conversion \n",
    "old_age = int(input(\"Enter your old age: \"))\n",
    "new_age = old_age + 2\n",
    "print(new_age)\n",
    "\n",
    "number = 10\n",
    "print(float(number))\n",
    "print(str(number))\n",
    "print(int(number))"
   ]
  },
  {
   "cell_type": "code",
   "execution_count": 2,
   "metadata": {},
   "outputs": [
    {
     "name": "stdout",
     "output_type": "stream",
     "text": [
      "2457.0\n"
     ]
    }
   ],
   "source": [
    "#print sum of 2 number\n",
    "a = float(input(\"enter 1st number\"))\n",
    "b = float(input(\"ENTER 2ND NUMBER \"))\n",
    "sum = a + b\n",
    "print(sum)"
   ]
  },
  {
   "cell_type": "code",
   "execution_count": 9,
   "metadata": {},
   "outputs": [
    {
     "name": "stdout",
     "output_type": "stream",
     "text": [
      "TONY STARK\n",
      "tony stark\n",
      "5\n",
      "ironman\n",
      "True\n",
      "True\n",
      "False\n"
     ]
    }
   ],
   "source": [
    "#strings\n",
    "name = \"tony stark\"\n",
    "print(name.upper())\n",
    "print(name.lower())\n",
    "print(name.find('stark'))\n",
    "print(name.replace(\"tony stark\", \"ironman\"))\n",
    "print(\"t\"in name)\n",
    "print(\"stark\" in name )\n",
    "print(\"hell\" in name )"
   ]
  },
  {
   "cell_type": "code",
   "execution_count": 14,
   "metadata": {},
   "outputs": [
    {
     "name": "stdout",
     "output_type": "stream",
     "text": [
      "7\n",
      "3\n",
      "10\n",
      "2.5\n",
      "2\n",
      "1\n",
      "25\n",
      "5\n",
      "9\n",
      "5\n",
      "20\n"
     ]
    }
   ],
   "source": [
    "#arithamatic operator\n",
    "print(5+2)\n",
    "print(5-2)\n",
    "print(5*2)\n",
    "print(5/2)\n",
    "print(5//2)\n",
    "print(5%2)\n",
    "print(5**2)\n",
    "i=5\n",
    "print(i)\n",
    "i=i+2\n",
    "i+=2\n",
    "print(i)\n",
    "i=i-2\n",
    "i-=2\n",
    "print(i)\n",
    "\n",
    "i=i*2\n",
    "i*=2\n",
    "print(i)"
   ]
  },
  {
   "cell_type": "code",
   "execution_count": 16,
   "metadata": {},
   "outputs": [
    {
     "name": "stdout",
     "output_type": "stream",
     "text": [
      "17\n",
      "20\n"
     ]
    }
   ],
   "source": [
    "# Operator precedence.\n",
    "result = 2+3*5 #Python follows BDMAS  rule.\n",
    "print(result)\n",
    "result =(2+2)*5\n",
    "print(result)"
   ]
  },
  {
   "cell_type": "code",
   "execution_count": 6,
   "metadata": {},
   "outputs": [
    {
     "name": "stdout",
     "output_type": "stream",
     "text": [
      "True\n",
      "False\n",
      "False\n",
      "True\n",
      "True\n",
      "False\n"
     ]
    }
   ],
   "source": [
    "# Comparative operators.\n",
    "print(3>2)\n",
    "print(3<2)\n",
    "print(3==2)\n",
    "print(3==3)\n",
    "print(3!=2)\n",
    "print(3!=3)"
   ]
  },
  {
   "cell_type": "code",
   "execution_count": 14,
   "metadata": {},
   "outputs": [
    {
     "name": "stdout",
     "output_type": "stream",
     "text": [
      "True\n",
      "False\n",
      "False\n"
     ]
    }
   ],
   "source": [
    "# #logical operator \n",
    "# or\n",
    "# and \n",
    "# not\n",
    "\n",
    "print(3>2 or 3>1)\n",
    "print(3>4 and 3>1)\n",
    "\n",
    "print(not   3>1)"
   ]
  },
  {
   "cell_type": "code",
   "execution_count": 15,
   "metadata": {},
   "outputs": [
    {
     "name": "stdout",
     "output_type": "stream",
     "text": [
      "you can vote\n"
     ]
    }
   ],
   "source": [
    "# if else \n",
    "age =90\n",
    "if age >=19:\n",
    "    print(\"you can vote\")"
   ]
  },
  {
   "cell_type": "code",
   "execution_count": 17,
   "metadata": {},
   "outputs": [
    {
     "name": "stdout",
     "output_type": "stream",
     "text": [
      " chal ja ab \n"
     ]
    }
   ],
   "source": [
    "age =18\n",
    "if age >=19:\n",
    "    print(\"you can vote\")\n",
    "\n",
    "print(\" chal ja ab \")"
   ]
  },
  {
   "cell_type": "code",
   "execution_count": 22,
   "metadata": {},
   "outputs": [
    {
     "name": "stdout",
     "output_type": "stream",
     "text": [
      "You can vote\n"
     ]
    }
   ],
   "source": [
    "# elif\n",
    "age = int(input(\" chal age bta tere \"))\n",
    "if age >= 19:\n",
    "    print(\"You can vote\")\n",
    "elif 3 < age < 18:\n",
    "    print(\"You are in school. Chal ja, padai kar!\") \n",
    "\n",
    "\n",
    "\n",
    "\n"
   ]
  },
  {
   "cell_type": "code",
   "execution_count": 1,
   "metadata": {},
   "outputs": [
    {
     "name": "stdout",
     "output_type": "stream",
     "text": [
      " first / 2nd \n",
      "5.0\n"
     ]
    }
   ],
   "source": [
    "# calculator in python \n",
    "\n",
    "fn = int(input(\" enter the 1st number \"))\n",
    "operator = input(\" chose and operator  (+,-,*,/)\")\n",
    "\n",
    "sn = int(input(\" enter the 2nd  number \"))\n",
    "if operator== \"+\":\n",
    "    print (\" first + 2nd \")\n",
    "    result = fn +sn\n",
    "    print (result)\n",
    "elif operator== \"-\":\n",
    "    print (\" first - 2nd \")\n",
    "    result = fn -sn\n",
    "    print (result)\n",
    "elif operator== \"*\":\n",
    "    print (\" first * 2nd \")\n",
    "    result = fn *sn\n",
    "    print (result)\n",
    "elif operator== \"/\":\n",
    "    \n",
    "    print (\" first / 2nd \")\n",
    "    result = fn /sn\n",
    "    print (result)\n",
    "else :\n",
    "    print(\"invalid operation \")"
   ]
  },
  {
   "cell_type": "code",
   "execution_count": 7,
   "metadata": {},
   "outputs": [
    {
     "name": "stdout",
     "output_type": "stream",
     "text": [
      "range(0, 5)\n"
     ]
    }
   ],
   "source": [
    "# range \n",
    "number =range (0,5,1)\n",
    "print ( number)"
   ]
  },
  {
   "cell_type": "code",
   "execution_count": null,
   "metadata": {},
   "outputs": [],
   "source": [
    "#loop\n"
   ]
  }
 ],
 "metadata": {
  "kernelspec": {
   "display_name": "Python 3",
   "language": "python",
   "name": "python3"
  },
  "language_info": {
   "codemirror_mode": {
    "name": "ipython",
    "version": 3
   },
   "file_extension": ".py",
   "mimetype": "text/x-python",
   "name": "python",
   "nbconvert_exporter": "python",
   "pygments_lexer": "ipython3",
   "version": "3.12.3"
  }
 },
 "nbformat": 4,
 "nbformat_minor": 2
}
