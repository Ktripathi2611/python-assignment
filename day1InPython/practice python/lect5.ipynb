{
 "cells": [
  {
   "cell_type": "markdown",
   "metadata": {},
   "source": [
    "### Arbitrary Arguments\n",
    "*args\n",
    "\n",
    "similar to variable length arguements"
   ]
  },
  {
   "cell_type": "code",
   "execution_count": 7,
   "metadata": {},
   "outputs": [
    {
     "name": "stdout",
     "output_type": "stream",
     "text": [
      "Welcome siddhi\n",
      "Welcome shubham\n"
     ]
    }
   ],
   "source": [
    "def greet(*name):\n",
    "    #statement\n",
    "    for i in range(len(name)):\n",
    "        print(f\"Welcome {name[i]}\")\n",
    "\n",
    "greet('siddhi','shubham','sambhav','mitansh','soham','raj')"
   ]
  },
  {
   "cell_type": "markdown",
   "metadata": {},
   "source": [
    "### Arbitrary keyword arguements\n",
    "\n",
    "**kargs\n",
    "\n",
    "def func(**kargs):\n",
    "   \n",
    "    #statement\n",
    "\n",
    "func(name = 'siddhi',...)"
   ]
  },
  {
   "cell_type": "code",
   "execution_count": 26,
   "metadata": {},
   "outputs": [
    {
     "name": "stdout",
     "output_type": "stream",
     "text": [
      "name is Aastha\n",
      "Rollno is 187\n"
     ]
    }
   ],
   "source": [
    "d = {'name':'aastha','rollno':187}\n",
    "def details(**d):\n",
    "    for i,j in d.items():\n",
    "        #print('Name is ',d[i])\n",
    "        print(i,'is',j)\n",
    "    \n",
    "        # print('Roll no. is',i)\n",
    "    \n",
    "\n",
    "details(name='Aastha',Rollno = 187)\n",
    "# details(d.keys(),d.values())"
   ]
  },
  {
   "cell_type": "code",
   "execution_count": 31,
   "metadata": {},
   "outputs": [
    {
     "name": "stdout",
     "output_type": "stream",
     "text": [
      "name aastha\n",
      "rollno 187\n"
     ]
    }
   ],
   "source": [
    "for i,j in d.items():\n",
    "    # details(i=j)\n",
    "    print(i,j)\n",
    "    details()"
   ]
  },
  {
   "cell_type": "code",
   "execution_count": null,
   "metadata": {},
   "outputs": [],
   "source": []
  },
  {
   "cell_type": "code",
   "execution_count": null,
   "metadata": {},
   "outputs": [],
   "source": [
    "# d = {'name':'aastha','rollno':187}\n",
    "# def details(**d):\n",
    "#     # for i in \n"
   ]
  },
  {
   "cell_type": "markdown",
   "metadata": {},
   "source": [
    "### Recursive Function\n",
    "\n",
    "it calls itself\n",
    "\n",
    "it needs a base condition"
   ]
  },
  {
   "cell_type": "code",
   "execution_count": 37,
   "metadata": {},
   "outputs": [
    {
     "data": {
      "text/plain": [
       "15"
      ]
     },
     "execution_count": 37,
     "metadata": {},
     "output_type": "execute_result"
    }
   ],
   "source": [
    "# #sum of n natural numbers\n",
    "def sumn(n):\n",
    "    if n==1:\n",
    "        return 1\n",
    "    else:\n",
    "        return n + sumn(n-1)\n",
    "\n",
    "sumn(3)\n",
    "\n",
    "def sumn(n):\n",
    "    sum=0\n",
    "    for i in range(1,n+1):\n",
    "        sum+=i\n",
    "    return sum\n",
    "sumn(5)\n"
   ]
  },
  {
   "cell_type": "markdown",
   "metadata": {},
   "source": [
    "program on factorial"
   ]
  },
  {
   "cell_type": "code",
   "execution_count": 1,
   "metadata": {},
   "outputs": [
    {
     "data": {
      "text/plain": [
       "120"
      ]
     },
     "execution_count": 1,
     "metadata": {},
     "output_type": "execute_result"
    }
   ],
   "source": [
    "# def fact(n):\n",
    "def fact(n):\n",
    "    if n==1 or n==0:\n",
    "        return 1\n",
    "    else:\n",
    "        return n*fact(n-1)\n",
    "    \n",
    "fact(5)"
   ]
  },
  {
   "cell_type": "markdown",
   "metadata": {},
   "source": [
    "### Lambda Function or Anonymous Function\n",
    "\n",
    "uses lambda keyword\n",
    "\n",
    "it doesnt have a name\n",
    "\n",
    "it returns something by default\n",
    "\n",
    "### Syntax\n",
    "\n",
    "anyname = lambda arguement : expression"
   ]
  },
  {
   "cell_type": "code",
   "execution_count": 41,
   "metadata": {},
   "outputs": [
    {
     "data": {
      "text/plain": [
       "<function __main__.<lambda>(n)>"
      ]
     },
     "execution_count": 41,
     "metadata": {},
     "output_type": "execute_result"
    }
   ],
   "source": [
    "def func(n):\n",
    "    pass\n",
    "\n",
    "# func = lambda n : pass \n",
    "\n",
    "# def double(n):\n",
    "#     return n*2 \n",
    "\n",
    "# double(2)\n",
    "\n",
    "# double = lambda n : n*2\n",
    "# double\n",
    "\n",
    "\n",
    "# double = lambda x : x*2\n",
    "\n",
    "# double(2)"
   ]
  },
  {
   "cell_type": "code",
   "execution_count": 2,
   "metadata": {},
   "outputs": [
    {
     "data": {
      "text/plain": [
       "15"
      ]
     },
     "execution_count": 2,
     "metadata": {},
     "output_type": "execute_result"
    }
   ],
   "source": [
    "n=int(input(\"enter number\"))\n",
    "sumn=lambda n: n if n==1 else n+sumn(n-1)\n",
    "sumn(n) "
   ]
  },
  {
   "cell_type": "code",
   "execution_count": 43,
   "metadata": {},
   "outputs": [
    {
     "data": {
      "text/plain": [
       "16"
      ]
     },
     "execution_count": 43,
     "metadata": {},
     "output_type": "execute_result"
    }
   ],
   "source": [
    "square= lambda d : d**2\n",
    "square(4)"
   ]
  },
  {
   "cell_type": "markdown",
   "metadata": {},
   "source": [
    "List Comprehension"
   ]
  },
  {
   "cell_type": "code",
   "execution_count": 7,
   "metadata": {},
   "outputs": [
    {
     "name": "stdout",
     "output_type": "stream",
     "text": [
      "[0, 2, 0, 4, 0, 6, 0, 8, 0, 10]\n"
     ]
    }
   ],
   "source": [
    "ls = [i if i%2==0 else 0 for i in range(1,11)]\n",
    "print(ls)\n",
    "\n",
    "# ls1=[0,1,0,1,1,1,1,0,0,0]\n",
    "# ls = [1 if i==0 else 0 for i in ls1]\n",
    "# ls "
   ]
  },
  {
   "cell_type": "code",
   "execution_count": 3,
   "metadata": {},
   "outputs": [
    {
     "data": {
      "text/plain": [
       "[1, 0, 1, 0]"
      ]
     },
     "execution_count": 3,
     "metadata": {},
     "output_type": "execute_result"
    }
   ],
   "source": [
    "ls=[0,1,0,1]\n",
    "lis=[ 0 if i==1 else 1 for i in ls]\n",
    "lis"
   ]
  },
  {
   "cell_type": "code",
   "execution_count": 3,
   "metadata": {},
   "outputs": [
    {
     "data": {
      "text/plain": [
       "{1: False, 0: True}"
      ]
     },
     "execution_count": 3,
     "metadata": {},
     "output_type": "execute_result"
    }
   ],
   "source": [
    "d = {i : not(i) for i in ls}\n",
    "d "
   ]
  },
  {
   "cell_type": "code",
   "execution_count": 2,
   "metadata": {},
   "outputs": [
    {
     "data": {
      "text/plain": [
       "6"
      ]
     },
     "execution_count": 2,
     "metadata": {},
     "output_type": "execute_result"
    }
   ],
   "source": [
    "sumofn = lambda n : sum(i for i in range(1,n+1))\n",
    "sumofn(3)"
   ]
  },
  {
   "cell_type": "markdown",
   "metadata": {},
   "source": [
    "# OOP\n",
    "\n",
    "everything is an object\n",
    "\n",
    "the functions defined inside the class are known as methods"
   ]
  },
  {
   "cell_type": "markdown",
   "metadata": {},
   "source": [
    "#### in java \n",
    "public class sample\n",
    "{\n",
    "\n",
    "}\n",
    "\n",
    "\n",
    "classname objname = new constructorname();\n",
    "\n"
   ]
  },
  {
   "cell_type": "code",
   "execution_count": 46,
   "metadata": {},
   "outputs": [
    {
     "data": {
      "text/plain": [
       "10"
      ]
     },
     "execution_count": 46,
     "metadata": {},
     "output_type": "execute_result"
    }
   ],
   "source": [
    "class sample:\n",
    "    #statement\n",
    "    v = 10\n",
    "\n",
    "# sample.v\n",
    "#objname = classname()\n",
    "a = sample()\n",
    "a.v"
   ]
  },
  {
   "cell_type": "code",
   "execution_count": 5,
   "metadata": {},
   "outputs": [],
   "source": [
    "class batch2:\n",
    "    def display(self):\n",
    "        print(\"this is batch 2\")\n",
    "\n",
    "\n",
    "# batch2.display()\n",
    "# b2 = batch2()\n",
    "# b2.display()"
   ]
  },
  {
   "cell_type": "markdown",
   "metadata": {},
   "source": [
    "### Constructor\n",
    "\n",
    "same name as class name\n",
    "\n",
    "__ init __()"
   ]
  },
  {
   "cell_type": "code",
   "execution_count": 56,
   "metadata": {},
   "outputs": [
    {
     "name": "stdout",
     "output_type": "stream",
     "text": [
      "2\n",
      "2\n"
     ]
    }
   ],
   "source": [
    "class batch2:\n",
    "    batchid='3' #class variable\n",
    "    def __init__(self,msg='this is batch: ',batchid=2):\n",
    "        self.batchid = batchid\n",
    "        print(batchid) #local variable\n",
    "\n",
    "b2 = batch2()\n",
    "print(b2.batchid)"
   ]
  },
  {
   "cell_type": "markdown",
   "metadata": {},
   "source": [
    "step 1: create class batch2\n",
    "\n",
    "step 2: create a parameterized constructor\n",
    "\n",
    "step 3: pass the value of the parameter to class variable\n",
    "\n",
    "step 4: create display function n print the class variable\n"
   ]
  },
  {
   "cell_type": "code",
   "execution_count": 7,
   "metadata": {},
   "outputs": [
    {
     "name": "stdout",
     "output_type": "stream",
     "text": [
      "sagar\n",
      "siddhi\n"
     ]
    }
   ],
   "source": [
    "\n",
    "class Batch3:\n",
    "    n=0\n",
    "    def __init__(self,name):\n",
    "        self.n = name\n",
    "\n",
    "    def display(self):\n",
    "        print(self.n)\n",
    "    \n",
    "obj1 = Batch3('sagar')\n",
    "obj2 = Batch3('siddhi')\n",
    "\n",
    "obj1.display()\n",
    "obj2.display()"
   ]
  },
  {
   "cell_type": "markdown",
   "metadata": {},
   "source": [
    "# Inheritance"
   ]
  },
  {
   "cell_type": "markdown",
   "metadata": {},
   "source": [
    "class batch2 extends batch\n",
    "{\n",
    "\n",
    "}\n",
    "\n",
    "class batch2(batch):\n",
    "    def func()\n",
    "        ..."
   ]
  },
  {
   "cell_type": "markdown",
   "metadata": {},
   "source": [
    "1) create class batch with output method\n",
    "2) create class batch2 with display method"
   ]
  },
  {
   "cell_type": "code",
   "execution_count": 15,
   "metadata": {},
   "outputs": [
    {
     "name": "stdout",
     "output_type": "stream",
     "text": [
      "This isbatch\n",
      "This is Batch2\n",
      "This isbatch 2 using output method\n"
     ]
    }
   ],
   "source": [
    "class batch:\n",
    "    def output(self,msg):\n",
    "        print(f\"This is{msg}\")\n",
    "class batch2(batch):\n",
    "    def output(self,msg1):\n",
    "        print(f\"This is {msg1}\")\n",
    "\n",
    "b = batch()\n",
    "b.output('batch')\n",
    "b2 = batch2()\n",
    "b2.output('Batch2') \n",
    "b2.output('batch 2 using output method')   "
   ]
  },
  {
   "cell_type": "code",
   "execution_count": 21,
   "metadata": {},
   "outputs": [
    {
     "name": "stdout",
     "output_type": "stream",
     "text": [
      "this is parent class\n",
      "this is child class\n"
     ]
    }
   ],
   "source": [
    "class Parent:\n",
    "    def display(self,msg):\n",
    "        print(f\"this is {msg} class\")\n",
    "\n",
    "class Child(Parent):  \n",
    "    def display(self):\n",
    "        super().display('parent')\n",
    "        print(\"this is child class\")\n",
    "\n",
    "c1=Child()\n",
    "c1.display()  \n",
    "# c1.display('parent')  #overloading not supported"
   ]
  },
  {
   "cell_type": "code",
   "execution_count": null,
   "metadata": {},
   "outputs": [],
   "source": [
    "class A(): #grandparent\n",
    "    pass\n",
    "class B(A): #parent\n",
    "    pass \n",
    "class C(B): #us \n",
    "    pass\n"
   ]
  },
  {
   "cell_type": "code",
   "execution_count": null,
   "metadata": {},
   "outputs": [],
   "source": [
    "class A(): #mother\n",
    "    pass\n",
    "class B(): #father\n",
    "    pass \n",
    "class C(A,B): #child  \n",
    "    pass\n"
   ]
  },
  {
   "cell_type": "markdown",
   "metadata": {},
   "source": [
    "# Data hiding\n",
    "\n",
    "private : __ \n",
    "\n",
    "protected : _\n",
    "\n",
    "public : no underscore"
   ]
  },
  {
   "cell_type": "code",
   "execution_count": 24,
   "metadata": {},
   "outputs": [
    {
     "name": "stdout",
     "output_type": "stream",
     "text": [
      "This is message\n",
      "Batchid :  2\n",
      "Count :  41\n"
     ]
    }
   ],
   "source": [
    "class batch():\n",
    "    _msg = \"This is message\"\n",
    "    __bid = 2\n",
    "    co = 41\n",
    "    \n",
    "    def display(self):\n",
    "        print(self._msg)\n",
    "        print(\"Batchid : \",self.__bid)\n",
    "        print(\"Count : \",self.co)\n",
    "\n",
    "\n",
    "b2 = batch()\n",
    "b2.display()\n"
   ]
  },
  {
   "cell_type": "code",
   "execution_count": null,
   "metadata": {},
   "outputs": [],
   "source": []
  }
 ],
 "metadata": {
  "kernelspec": {
   "display_name": "Python 3",
   "language": "python",
   "name": "python3"
  },
  "language_info": {
   "codemirror_mode": {
    "name": "ipython",
    "version": 3
   },
   "file_extension": ".py",
   "mimetype": "text/x-python",
   "name": "python",
   "nbconvert_exporter": "python",
   "pygments_lexer": "ipython3",
   "version": "3.12.3"
  }
 },
 "nbformat": 4,
 "nbformat_minor": 2
}
