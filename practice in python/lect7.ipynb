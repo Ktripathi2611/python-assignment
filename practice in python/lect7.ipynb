{
 "cells": [
  {
   "cell_type": "markdown",
   "metadata": {},
   "source": [
    "file handling in python\n"
   ]
  },
  {
   "cell_type": "markdown",
   "metadata": {},
   "source": [
    "text file \n",
    ".txt,\n",
    ".docx,\n",
    ".log,\n",
    "\n",
    "Binary files\n",
    ".mp4,\n",
    ".mov;\n",
    ".png;\n",
    ".jpeg;\n",
    "\n",
    "\n",
    "python can be use to perform operation on a file "
   ]
  },
  {
   "cell_type": "markdown",
   "metadata": {},
   "source": [
    "we have to open the a file before reading or writing \n",
    "f = open(\"file-name.txt\",\"mode \")\n",
    "\n",
    "eg of filename = sample.txt or demo.docx \n",
    "\n",
    "eg of mode = r :read mode \n",
    "w : for write mode \n",
    "\n",
    "data =f.read()\n",
    "f.close()"
   ]
  },
  {
   "cell_type": "code",
   "execution_count": 69,
   "metadata": {},
   "outputs": [],
   "source": [
    "f=open(\"demo.txt\",'r')"
   ]
  },
  {
   "cell_type": "code",
   "execution_count": 76,
   "metadata": {},
   "outputs": [],
   "source": [
    "f=open(\"demo.txt\",'r')\n",
    "data=f.read()\n",
    "print(data)\n",
    "print(type(data))"
   ]
  },
  {
   "cell_type": "code",
   "execution_count": 71,
   "metadata": {},
   "outputs": [],
   "source": [
    "#f.close()"
   ]
  },
  {
   "cell_type": "markdown",
   "metadata": {},
   "source": [
    "+ 'r ' for reading(Deafult)\n",
    "+ w for writing\n",
    "+ x for open new file and open for writing\n",
    "+ a open for writing and append the file if exist\n",
    "+ b for binary \n",
    "+ t defult txt mode\n",
    "+ \"+\"for open  a disk for updating"
   ]
  },
  {
   "cell_type": "code",
   "execution_count": 72,
   "metadata": {},
   "outputs": [],
   "source": [
    "f=open(\"demo.txt\",'r+')\n",
    "data=f.read()#jitne letters read karna hoga utne ka parameter do\n",
    "print(data)\n",
    "\n"
   ]
  },
  {
   "cell_type": "code",
   "execution_count": 73,
   "metadata": {},
   "outputs": [
    {
     "name": "stdout",
     "output_type": "stream",
     "text": [
      "i\n"
     ]
    }
   ],
   "source": [
    "line1= f.readline(1)\n",
    "print(line1)    #doubt here cant print single line "
   ]
  },
  {
   "cell_type": "code",
   "execution_count": 74,
   "metadata": {},
   "outputs": [],
   "source": [
    "data = f.read()\n",
    "print(data)"
   ]
  },
  {
   "cell_type": "markdown",
   "metadata": {},
   "source": [
    "* writing in file "
   ]
  },
  {
   "cell_type": "code",
   "execution_count": 83,
   "metadata": {},
   "outputs": [],
   "source": [
    "f=open(\"demo.txt\",\"w\")"
   ]
  },
  {
   "cell_type": "code",
   "execution_count": 86,
   "metadata": {},
   "outputs": [
    {
     "name": "stdout",
     "output_type": "stream",
     "text": [
      "<_io.TextIOWrapper name='demo.txt' mode='w' encoding='cp1252'>\n"
     ]
    }
   ],
   "source": [
    "f.write(\"if u want me u to listen u then get on yr kness and  beg \")\n",
    "print(f)"
   ]
  }
 ],
 "metadata": {
  "kernelspec": {
   "display_name": "Python 3",
   "language": "python",
   "name": "python3"
  },
  "language_info": {
   "codemirror_mode": {
    "name": "ipython",
    "version": 3
   },
   "file_extension": ".py",
   "mimetype": "text/x-python",
   "name": "python",
   "nbconvert_exporter": "python",
   "pygments_lexer": "ipython3",
   "version": "3.12.3"
  }
 },
 "nbformat": 4,
 "nbformat_minor": 2
}
